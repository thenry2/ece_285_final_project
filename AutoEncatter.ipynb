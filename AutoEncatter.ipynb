{
 "cells": [
  {
   "cell_type": "code",
   "execution_count": 1,
   "metadata": {
    "scrolled": true
   },
   "outputs": [
    {
     "name": "stderr",
     "output_type": "stream",
     "text": [
      "/opt/conda/lib/python3.6/site-packages/h5py/__init__.py:36: FutureWarning: Conversion of the second argument of issubdtype from `float` to `np.floating` is deprecated. In future, it will be treated as `np.float64 == np.dtype(float).type`.\n",
      "  from ._conv import register_converters as _register_converters\n",
      "Using TensorFlow backend.\n"
     ]
    },
    {
     "name": "stdout",
     "output_type": "stream",
     "text": [
      "Done importing\n"
     ]
    }
   ],
   "source": [
    "import keras \n",
    "from keras import backend as K\n",
    "from keras.models import load_model\n",
    "from keras.layers import Input, Dense, Conv2D, MaxPooling2D, UpSampling2D, BatchNormalization, Activation\n",
    "from keras.models import Model\n",
    "from keras.callbacks import EarlyStopping, ModelCheckpoint\n",
    "from keras.optimizers import Adam\n",
    "import os\n",
    "import pickle\n",
    "import numpy as np\n",
    "import matplotlib.pyplot as plt\n",
    "\n",
    "print('Done importing')"
   ]
  },
  {
   "cell_type": "code",
   "execution_count": 3,
   "metadata": {},
   "outputs": [],
   "source": [
    "import tensorflow as tf\n",
    "config = tf.ConfigProto()\n",
    "config.gpu_options.allow_growth = True\n",
    "sess = tf.Session(config=config)\n",
    "K.set_session(sess)"
   ]
  },
  {
   "cell_type": "code",
   "execution_count": 4,
   "metadata": {},
   "outputs": [],
   "source": [
    "#Adding Seed so that random initialization is consistent\n",
    "import os\n",
    "from numpy.random import seed\n",
    "seed(1)\n",
    "from tensorflow import set_random_seed\n",
    "set_random_seed(2)"
   ]
  },
  {
   "cell_type": "code",
   "execution_count": 5,
   "metadata": {},
   "outputs": [
    {
     "name": "stdout",
     "output_type": "stream",
     "text": [
      "['cats']\n",
      "Going to read training images\n",
      "Now going to read cats files (Index: 0)\n",
      "Complete reading input data. Will Now print a snippet of it\n",
      "Number of files in Training-set:\t\t7373\n",
      "Number of files in Validation-set:\t819\n"
     ]
    }
   ],
   "source": [
    "import dataset\n",
    "\n",
    "#Prepare input data\n",
    "train_path='training_data'\n",
    "classes = ['cats']\n",
    "print(classes)\n",
    "num_classes = len(classes)\n",
    "\n",
    "# 10% of the data will automatically be used for validation\n",
    "validation_size = 0.1\n",
    "img_size = 32\n",
    "num_channels = 3\n",
    "sample_size = 8192\n",
    "\n",
    "data = dataset.read_train_sets(train_path, img_size, ['cats'], validation_size=validation_size, sample_size=sample_size)\n",
    "\n",
    "\n",
    "print(\"Complete reading input data. Will Now print a snippet of it\")\n",
    "print(\"Number of files in Training-set:\\t\\t{}\".format(len(data.train.labels)))\n",
    "print(\"Number of files in Validation-set:\\t{}\".format(len(data.valid.labels)))"
   ]
  },
  {
   "cell_type": "code",
   "execution_count": 6,
   "metadata": {},
   "outputs": [],
   "source": [
    "x_train, _, _, _ = data.train.next_batch(7373)\n",
    "x_valid, _, _, _ = data.valid.next_batch(819)"
   ]
  },
  {
   "cell_type": "code",
   "execution_count": 7,
   "metadata": {},
   "outputs": [
    {
     "data": {
      "text/plain": [
       "<matplotlib.image.AxesImage at 0x7f66540afba8>"
      ]
     },
     "execution_count": 7,
     "metadata": {},
     "output_type": "execute_result"
    },
    {
     "data": {
      "image/png": "[encoded data removed]",
      "text/plain": [
       "<Figure size 432x288 with 1 Axes>"
      ]
     },
     "metadata": {
      "needs_background": "light"
     },
     "output_type": "display_data"
    }
   ],
   "source": [
    "plt.imshow(x_valid[1].reshape(img_size, img_size, 3))"
   ]
  },
  {
   "cell_type": "code",
   "execution_count": 8,
   "metadata": {},
   "outputs": [
    {
     "name": "stdout",
     "output_type": "stream",
     "text": [
      "x_train shape: (7373, 32, 32, 3)\n",
      "7373 train samples\n",
      "819 test samples\n"
     ]
    }
   ],
   "source": [
    "x_train = x_train.astype('float32')\n",
    "x_valid = x_valid.astype('float32')\n",
    "x_train /= 255\n",
    "x_valid /= 255\n",
    "print('x_train shape:', x_train.shape)\n",
    "print(x_train.shape[0], 'train samples')\n",
    "print(x_valid.shape[0], 'test samples')"
   ]
  },
  {
   "cell_type": "code",
   "execution_count": 9,
   "metadata": {},
   "outputs": [
    {
     "data": {
      "text/plain": [
       "<matplotlib.image.AxesImage at 0x7f662c191240>"
      ]
     },
     "execution_count": 9,
     "metadata": {},
     "output_type": "execute_result"
    },
    {
     "data": {
      "image/png": "[encoded data removed]",
      "text/plain": [
       "<Figure size 432x288 with 1 Axes>"
      ]
     },
     "metadata": {
      "needs_background": "light"
     },
     "output_type": "display_data"
    }
   ],
   "source": [
    "plt.imshow(255*x_valid[1].reshape(img_size, img_size, 3))"
   ]
  },
  {
   "cell_type": "code",
   "execution_count": 10,
   "metadata": {},
   "outputs": [
    {
     "name": "stdout",
     "output_type": "stream",
     "text": [
      "(?, 8, 8, 16)\n",
      "At this point the image is compressed by 3.0\n"
     ]
    }
   ],
   "source": [
    "totLen = img_size * img_size * 3\n",
    "midAct = 'relu'\n",
    "finAct = 'sigmoid'\n",
    "input_img = Input(shape=(img_size, img_size, 3))\n",
    "x = Conv2D(64, (3, 3), padding='same')(input_img)\n",
    "x = BatchNormalization()(x)\n",
    "x = Activation(midAct)(x)\n",
    "x = MaxPooling2D((2, 2), padding='same')(x)\n",
    "x = Conv2D(32, (3, 3), padding='same')(x)\n",
    "x = BatchNormalization()(x)\n",
    "x = Activation(midAct)(x)\n",
    "x = MaxPooling2D((2, 2), padding='same')(x)\n",
    "x = Conv2D(16, (3, 3), padding='same')(x)\n",
    "print(x.shape)\n",
    "x = BatchNormalization()(x)\n",
    "x = Activation(midAct)(x)\n",
    "encoded = MaxPooling2D((2, 2), padding='same')(x)\n",
    "print('At this point the image is compressed by ' + str(totLen/1024))\n",
    "x = Conv2D(16, (3, 3), padding='same')(encoded)\n",
    "x = BatchNormalization()(x)\n",
    "x = Activation(midAct)(x)\n",
    "x = UpSampling2D((2, 2))(x)\n",
    "x = Conv2D(32, (3, 3), padding='same')(x)\n",
    "x = BatchNormalization()(x)\n",
    "x = Activation(midAct)(x)\n",
    "x = UpSampling2D((2, 2))(x)\n",
    "x = Conv2D(64, (3, 3), padding='same')(x)\n",
    "x = BatchNormalization()(x)\n",
    "x = Activation(midAct)(x)\n",
    "x = UpSampling2D((2, 2))(x)\n",
    "x = Conv2D(3, (3, 3), padding='same')(x)\n",
    "x = BatchNormalization()(x)\n",
    "decoded = Activation(finAct)(x)\n",
    "#linear last layer for regression "
   ]
  },
  {
   "cell_type": "code",
   "execution_count": 11,
   "metadata": {},
   "outputs": [],
   "source": [
    "model = Model(input_img, decoded)\n",
    "model.compile(optimizer='Adam', loss='binary_crossentropy)"
   ]
  },
  {
   "cell_type": "code",
   "execution_count": 12,
   "metadata": {},
   "outputs": [],
   "source": [
    "es_cb = EarlyStopping(monitor='val_loss', patience=2, verbose=1, mode='auto')\n",
    "cp_cb = ModelCheckpoint('chkpt.hdf5', monitor='val_loss', verbose=1, save_best_only=True, mode='auto')"
   ]
  },
  {
   "cell_type": "code",
   "execution_count": 13,
   "metadata": {},
   "outputs": [
    {
     "name": "stdout",
     "output_type": "stream",
     "text": [
      "Train on 7373 samples, validate on 819 samples\n",
      "Epoch 1/25\n",
      "7373/7373 [==============================] - 11s 1ms/step - loss: 0.1847 - val_loss: 0.6205\n",
      "\n",
      "Epoch 00001: val_loss improved from inf to 0.62054, saving model to chkpt.hdf5\n",
      "Epoch 2/25\n",
      "7373/7373 [==============================] - 7s 969us/step - loss: 0.1120 - val_loss: 0.7850\n",
      "\n",
      "Epoch 00002: val_loss did not improve from 0.62054\n",
      "Epoch 3/25\n",
      "7373/7373 [==============================] - 7s 996us/step - loss: 0.0716 - val_loss: 0.3740\n",
      "\n",
      "Epoch 00003: val_loss improved from 0.62054 to 0.37398, saving model to chkpt.hdf5\n",
      "Epoch 4/25\n",
      "7373/7373 [==============================] - 7s 979us/step - loss: 0.0483 - val_loss: 0.1422\n",
      "\n",
      "Epoch 00004: val_loss improved from 0.37398 to 0.14215, saving model to chkpt.hdf5\n",
      "Epoch 5/25\n",
      "7373/7373 [==============================] - 7s 992us/step - loss: 0.0345 - val_loss: 0.4151\n",
      "\n",
      "Epoch 00005: val_loss did not improve from 0.14215\n",
      "Epoch 6/25\n",
      "7373/7373 [==============================] - 7s 987us/step - loss: 0.0243 - val_loss: 0.0203\n",
      "\n",
      "Epoch 00006: val_loss improved from 0.14215 to 0.02025, saving model to chkpt.hdf5\n",
      "Epoch 7/25\n",
      "7373/7373 [==============================] - 7s 985us/step - loss: 0.0179 - val_loss: 0.0327\n",
      "\n",
      "Epoch 00007: val_loss did not improve from 0.02025\n",
      "Epoch 8/25\n",
      "7373/7373 [==============================] - 7s 994us/step - loss: 0.0124 - val_loss: 0.0099\n",
      "\n",
      "Epoch 00008: val_loss improved from 0.02025 to 0.00987, saving model to chkpt.hdf5\n",
      "Epoch 9/25\n",
      "7373/7373 [==============================] - 7s 964us/step - loss: 0.0090 - val_loss: 0.0073\n",
      "\n",
      "Epoch 00009: val_loss improved from 0.00987 to 0.00728, saving model to chkpt.hdf5\n",
      "Epoch 10/25\n",
      "7373/7373 [==============================] - 7s 1ms/step - loss: 0.0065 - val_loss: 0.0059\n",
      "\n",
      "Epoch 00010: val_loss improved from 0.00728 to 0.00591, saving model to chkpt.hdf5\n",
      "Epoch 11/25\n",
      "7373/7373 [==============================] - 7s 989us/step - loss: 0.0048 - val_loss: 0.0043\n",
      "\n",
      "Epoch 00011: val_loss improved from 0.00591 to 0.00430, saving model to chkpt.hdf5\n",
      "Epoch 12/25\n",
      "7373/7373 [==============================] - 8s 1ms/step - loss: 0.0036 - val_loss: 0.0032\n",
      "\n",
      "Epoch 00012: val_loss improved from 0.00430 to 0.00319, saving model to chkpt.hdf5\n",
      "Epoch 13/25\n",
      "7373/7373 [==============================] - 7s 1ms/step - loss: 0.0028 - val_loss: 0.0024\n",
      "\n",
      "Epoch 00013: val_loss improved from 0.00319 to 0.00240, saving model to chkpt.hdf5\n",
      "Epoch 14/25\n",
      "7373/7373 [==============================] - 7s 1ms/step - loss: 0.0021 - val_loss: 0.0019\n",
      "\n",
      "Epoch 00014: val_loss improved from 0.00240 to 0.00189, saving model to chkpt.hdf5\n",
      "Epoch 15/25\n",
      "7373/7373 [==============================] - 7s 1ms/step - loss: 0.0017 - val_loss: 0.0015\n",
      "\n",
      "Epoch 00015: val_loss improved from 0.00189 to 0.00149, saving model to chkpt.hdf5\n",
      "Epoch 16/25\n",
      "7373/7373 [==============================] - 7s 1ms/step - loss: 0.0013 - val_loss: 0.0011\n",
      "\n",
      "Epoch 00016: val_loss improved from 0.00149 to 0.00113, saving model to chkpt.hdf5\n",
      "Epoch 17/25\n",
      "7373/7373 [==============================] - 7s 1ms/step - loss: 0.0010 - val_loss: 8.7839e-04\n",
      "\n",
      "Epoch 00017: val_loss improved from 0.00113 to 0.00088, saving model to chkpt.hdf5\n",
      "Epoch 18/25\n",
      "7373/7373 [==============================] - 7s 984us/step - loss: 7.8808e-04 - val_loss: 6.8831e-04\n",
      "\n",
      "Epoch 00018: val_loss improved from 0.00088 to 0.00069, saving model to chkpt.hdf5\n",
      "Epoch 19/25\n",
      "7373/7373 [==============================] - 7s 977us/step - loss: 6.1797e-04 - val_loss: 5.4332e-04\n",
      "\n",
      "Epoch 00019: val_loss improved from 0.00069 to 0.00054, saving model to chkpt.hdf5\n",
      "Epoch 20/25\n",
      "7373/7373 [==============================] - 7s 990us/step - loss: 4.8520e-04 - val_loss: 4.2924e-04\n",
      "\n",
      "Epoch 00020: val_loss improved from 0.00054 to 0.00043, saving model to chkpt.hdf5\n",
      "Epoch 21/25\n",
      "7373/7373 [==============================] - 7s 997us/step - loss: 3.8122e-04 - val_loss: 3.3561e-04\n",
      "\n",
      "Epoch 00021: val_loss improved from 0.00043 to 0.00034, saving model to chkpt.hdf5\n",
      "Epoch 22/25\n",
      "7373/7373 [==============================] - 8s 1ms/step - loss: 2.9958e-04 - val_loss: 2.6462e-04\n",
      "\n",
      "Epoch 00022: val_loss improved from 0.00034 to 0.00026, saving model to chkpt.hdf5\n",
      "Epoch 23/25\n",
      "7373/7373 [==============================] - 7s 1ms/step - loss: 2.3536e-04 - val_loss: 2.0786e-04\n",
      "\n",
      "Epoch 00023: val_loss improved from 0.00026 to 0.00021, saving model to chkpt.hdf5\n",
      "Epoch 24/25\n",
      "7373/7373 [==============================] - 7s 997us/step - loss: 1.8480e-04 - val_loss: 1.6322e-04\n",
      "\n",
      "Epoch 00024: val_loss improved from 0.00021 to 0.00016, saving model to chkpt.hdf5\n",
      "Epoch 25/25\n",
      "7373/7373 [==============================] - 8s 1ms/step - loss: 1.4497e-04 - val_loss: 1.2873e-04\n",
      "\n",
      "Epoch 00025: val_loss improved from 0.00016 to 0.00013, saving model to chkpt.hdf5\n"
     ]
    }
   ],
   "source": [
    "history = model.fit(x_train, x_train,batch_size=16,epochs=25,verbose=1, \n",
    "                    validation_data=(x_valid, x_valid),\n",
    "                    callbacks=[es_cb, cp_cb],\n",
    "                    shuffle=True)"
   ]
  },
  {
   "cell_type": "code",
   "execution_count": 14,
   "metadata": {},
   "outputs": [
    {
     "name": "stdout",
     "output_type": "stream",
     "text": [
      "819/819 [==============================] - 0s 150us/step\n",
      "0.00012873269926932308\n"
     ]
    }
   ],
   "source": [
    "score = model.evaluate(x_valid, x_valid, verbose=1)\n",
    "print(score)"
   ]
  },
  {
   "cell_type": "code",
   "execution_count": 15,
   "metadata": {},
   "outputs": [],
   "source": [
    "recon = model.predict(x_valid)"
   ]
  },
  {
   "cell_type": "code",
   "execution_count": 16,
   "metadata": {},
   "outputs": [],
   "source": [
    "# definition to show original image and reconstructed image\n",
    "def showOrigDec(x_valid, recon, num=10):\n",
    "    n = num\n",
    "    plt.figure(figsize=(20, 4))\n",
    "\n",
    "    for i in range(n):\n",
    "        # display original\n",
    "        ax = plt.subplot(2, n, i+1)\n",
    "        plt.imshow(x_valid[i].reshape(img_size, img_size, 3))\n",
    "        ax.get_xaxis().set_visible(False)\n",
    "        ax.get_yaxis().set_visible(False)\n",
    "\n",
    "        # display reconstruction\n",
    "        ax = plt.subplot(2, n, i +1 + n)\n",
    "        plt.imshow(recon[i].reshape(img_size, img_size, 3))\n",
    "        ax.get_xaxis().set_visible(False)\n",
    "        ax.get_yaxis().set_visible(False)\n",
    "    plt.show()"
   ]
  },
  {
   "cell_type": "code",
   "execution_count": 21,
   "metadata": {},
   "outputs": [
    {
     "name": "stderr",
     "output_type": "stream",
     "text": [
      "Clipping input data to the valid range for imshow with RGB data ([0..1] for floats or [0..255] for integers).\n",
      "Clipping input data to the valid range for imshow with RGB data ([0..1] for floats or [0..255] for integers).\n",
      "Clipping input data to the valid range for imshow with RGB data ([0..1] for floats or [0..255] for integers).\n",
      "Clipping input data to the valid range for imshow with RGB data ([0..1] for floats or [0..255] for integers).\n",
      "Clipping input data to the valid range for imshow with RGB data ([0..1] for floats or [0..255] for integers).\n",
      "Clipping input data to the valid range for imshow with RGB data ([0..1] for floats or [0..255] for integers).\n"
     ]
    },
    {
     "name": "stdout",
     "output_type": "stream",
     "text": [
      "(819, 32, 32, 3)\n"
     ]
    },
    {
     "name": "stderr",
     "output_type": "stream",
     "text": [
      "Clipping input data to the valid range for imshow with RGB data ([0..1] for floats or [0..255] for integers).\n",
      "Clipping input data to the valid range for imshow with RGB data ([0..1] for floats or [0..255] for integers).\n",
      "Clipping input data to the valid range for imshow with RGB data ([0..1] for floats or [0..255] for integers).\n",
      "Clipping input data to the valid range for imshow with RGB data ([0..1] for floats or [0..255] for integers).\n"
     ]
    },
    {
     "data": {
      "image/png": "[encoded data removed]",
      "text/plain": [
       "<Figure size 1440x288 with 1 Axes>"
      ]
     },
     "metadata": {
      "needs_background": "light"
     },
     "output_type": "display_data"
    },
    {
     "data": {
      "image/png": "[encoded data removed]",
      "text/plain": [
       "<Figure size 1440x288 with 20 Axes>"
      ]
     },
     "metadata": {
      "needs_background": "light"
     },
     "output_type": "display_data"
    }
   ],
   "source": [
    "x_valid_ = 255*x_valid;\n",
    "print(x_valid_.shape)\n",
    "import matplotlib.pyplot as plt\n",
    "plt.figure(figsize=(20,4))\n",
    "plt.imshow(255*x_valid[1])\n",
    "recon_ = 128*recon;\n",
    "showOrigDec(x_valid_, recon_)"
   ]
  },
  {
   "cell_type": "markdown",
   "metadata": {},
   "source": [
    "## Creating the AutoEncoder with three hidden layers"
   ]
  },
  {
   "cell_type": "code",
   "execution_count": 6,
   "metadata": {},
   "outputs": [
    {
     "ename": "NameError",
     "evalue": "name 'plt' is not defined",
     "output_type": "error",
     "traceback": [
      "\u001b[0;31m---------------------------------------------------------------------------\u001b[0m",
      "\u001b[0;31mNameError\u001b[0m                                 Traceback (most recent call last)",
      "\u001b[0;32m<ipython-input-6-07237a4a7dcb>\u001b[0m in \u001b[0;36m<module>\u001b[0;34m()\u001b[0m\n\u001b[1;32m      1\u001b[0m \u001b[0;34m\u001b[0m\u001b[0m\n\u001b[0;32m----> 2\u001b[0;31m \u001b[0mplt\u001b[0m\u001b[0;34m.\u001b[0m\u001b[0mplot\u001b[0m\u001b[0;34m(\u001b[0m\u001b[0mhistory\u001b[0m\u001b[0;34m.\u001b[0m\u001b[0mhistory\u001b[0m\u001b[0;34m[\u001b[0m\u001b[0;34m'loss'\u001b[0m\u001b[0;34m]\u001b[0m\u001b[0;34m)\u001b[0m\u001b[0;34m\u001b[0m\u001b[0;34m\u001b[0m\u001b[0m\n\u001b[0m\u001b[1;32m      3\u001b[0m \u001b[0mplt\u001b[0m\u001b[0;34m.\u001b[0m\u001b[0mplot\u001b[0m\u001b[0;34m(\u001b[0m\u001b[0mhistory\u001b[0m\u001b[0;34m.\u001b[0m\u001b[0mhistory\u001b[0m\u001b[0;34m[\u001b[0m\u001b[0;34m'val_loss'\u001b[0m\u001b[0;34m]\u001b[0m\u001b[0;34m)\u001b[0m\u001b[0;34m\u001b[0m\u001b[0;34m\u001b[0m\u001b[0m\n\u001b[1;32m      4\u001b[0m \u001b[0mplt\u001b[0m\u001b[0;34m.\u001b[0m\u001b[0mtitle\u001b[0m\u001b[0;34m(\u001b[0m\u001b[0;34m'Model Loss'\u001b[0m\u001b[0;34m)\u001b[0m\u001b[0;34m\u001b[0m\u001b[0;34m\u001b[0m\u001b[0m\n\u001b[1;32m      5\u001b[0m \u001b[0mplt\u001b[0m\u001b[0;34m.\u001b[0m\u001b[0mylabel\u001b[0m\u001b[0;34m(\u001b[0m\u001b[0;34m'Loss'\u001b[0m\u001b[0;34m)\u001b[0m\u001b[0;34m\u001b[0m\u001b[0;34m\u001b[0m\u001b[0m\n",
      "\u001b[0;31mNameError\u001b[0m: name 'plt' is not defined"
     ]
    }
   ],
   "source": []
  },
  {
   "cell_type": "code",
   "execution_count": 22,
   "metadata": {},
   "outputs": [
    {
     "name": "stdout",
     "output_type": "stream",
     "text": [
      "[[[[0.01301822 0.01307136 0.0130736 ]\n",
      "   [0.01301822 0.01307136 0.0130736 ]\n",
      "   [0.01301822 0.01307136 0.0130736 ]\n",
      "   ...\n",
      "   [0.01301822 0.01307136 0.0130736 ]\n",
      "   [0.01301822 0.01307136 0.0130736 ]\n",
      "   [0.01301822 0.01307136 0.0130736 ]]\n",
      "\n",
      "  [[0.01301822 0.01307136 0.0130736 ]\n",
      "   [0.01301822 0.01307136 0.0130736 ]\n",
      "   [0.01301822 0.01307136 0.0130736 ]\n",
      "   ...\n",
      "   [0.01301822 0.01307136 0.0130736 ]\n",
      "   [0.01301822 0.01307136 0.0130736 ]\n",
      "   [0.01301822 0.01307136 0.0130736 ]]\n",
      "\n",
      "  [[0.01301822 0.01307136 0.0130736 ]\n",
      "   [0.01301822 0.01307136 0.0130736 ]\n",
      "   [0.01301822 0.01307136 0.0130736 ]\n",
      "   ...\n",
      "   [0.01301822 0.01307136 0.0130736 ]\n",
      "   [0.01301822 0.01307136 0.0130736 ]\n",
      "   [0.01301822 0.01307136 0.0130736 ]]\n",
      "\n",
      "  ...\n",
      "\n",
      "  [[0.01301822 0.01307136 0.0130736 ]\n",
      "   [0.01301822 0.01307136 0.0130736 ]\n",
      "   [0.01301822 0.01307136 0.0130736 ]\n",
      "   ...\n",
      "   [0.01301822 0.01307136 0.0130736 ]\n",
      "   [0.01301822 0.01307136 0.0130736 ]\n",
      "   [0.01301822 0.01307136 0.0130736 ]]\n",
      "\n",
      "  [[0.01301822 0.01307136 0.0130736 ]\n",
      "   [0.01301822 0.01307136 0.0130736 ]\n",
      "   [0.01301822 0.01307136 0.0130736 ]\n",
      "   ...\n",
      "   [0.01301822 0.01307136 0.0130736 ]\n",
      "   [0.01301822 0.01307136 0.0130736 ]\n",
      "   [0.01301822 0.01307136 0.0130736 ]]\n",
      "\n",
      "  [[0.01301822 0.01307136 0.0130736 ]\n",
      "   [0.01301822 0.01307136 0.0130736 ]\n",
      "   [0.01301822 0.01307136 0.0130736 ]\n",
      "   ...\n",
      "   [0.01301822 0.01307136 0.0130736 ]\n",
      "   [0.01301822 0.01307136 0.0130736 ]\n",
      "   [0.01301822 0.01307136 0.0130736 ]]]\n",
      "\n",
      "\n",
      " [[[0.01301822 0.01307136 0.0130736 ]\n",
      "   [0.01301822 0.01307136 0.0130736 ]\n",
      "   [0.01301822 0.01307136 0.0130736 ]\n",
      "   ...\n",
      "   [0.01301822 0.01307136 0.0130736 ]\n",
      "   [0.01301822 0.01307136 0.0130736 ]\n",
      "   [0.01301822 0.01307136 0.0130736 ]]\n",
      "\n",
      "  [[0.01301822 0.01307136 0.0130736 ]\n",
      "   [0.01301822 0.01307136 0.0130736 ]\n",
      "   [0.01301822 0.01307136 0.0130736 ]\n",
      "   ...\n",
      "   [0.01301822 0.01307136 0.0130736 ]\n",
      "   [0.01301822 0.01307136 0.0130736 ]\n",
      "   [0.01301822 0.01307136 0.0130736 ]]\n",
      "\n",
      "  [[0.01301822 0.01307136 0.0130736 ]\n",
      "   [0.01301822 0.01307136 0.0130736 ]\n",
      "   [0.01301822 0.01307136 0.0130736 ]\n",
      "   ...\n",
      "   [0.01301822 0.01307136 0.0130736 ]\n",
      "   [0.01301822 0.01307136 0.0130736 ]\n",
      "   [0.01301822 0.01307136 0.0130736 ]]\n",
      "\n",
      "  ...\n",
      "\n",
      "  [[0.01301822 0.01307136 0.0130736 ]\n",
      "   [0.01301822 0.01307136 0.0130736 ]\n",
      "   [0.01301822 0.01307136 0.0130736 ]\n",
      "   ...\n",
      "   [0.01301822 0.01307136 0.0130736 ]\n",
      "   [0.01301822 0.01307136 0.0130736 ]\n",
      "   [0.01301822 0.01307136 0.0130736 ]]\n",
      "\n",
      "  [[0.01301822 0.01307136 0.0130736 ]\n",
      "   [0.01301822 0.01307136 0.0130736 ]\n",
      "   [0.01301822 0.01307136 0.0130736 ]\n",
      "   ...\n",
      "   [0.01301822 0.01307136 0.0130736 ]\n",
      "   [0.01301822 0.01307136 0.0130736 ]\n",
      "   [0.01301822 0.01307136 0.0130736 ]]\n",
      "\n",
      "  [[0.01301822 0.01307136 0.0130736 ]\n",
      "   [0.01301822 0.01307136 0.0130736 ]\n",
      "   [0.01301822 0.01307136 0.0130736 ]\n",
      "   ...\n",
      "   [0.01301822 0.01307136 0.0130736 ]\n",
      "   [0.01301822 0.01307136 0.0130736 ]\n",
      "   [0.01301822 0.01307136 0.0130736 ]]]\n",
      "\n",
      "\n",
      " [[[0.01301822 0.01307136 0.0130736 ]\n",
      "   [0.01301822 0.01307136 0.0130736 ]\n",
      "   [0.01301822 0.01307136 0.0130736 ]\n",
      "   ...\n",
      "   [0.01301822 0.01307136 0.0130736 ]\n",
      "   [0.01301822 0.01307136 0.0130736 ]\n",
      "   [0.01301822 0.01307136 0.0130736 ]]\n",
      "\n",
      "  [[0.01301822 0.01307136 0.0130736 ]\n",
      "   [0.01301822 0.01307136 0.0130736 ]\n",
      "   [0.01301822 0.01307136 0.0130736 ]\n",
      "   ...\n",
      "   [0.01301822 0.01307136 0.0130736 ]\n",
      "   [0.01301822 0.01307136 0.0130736 ]\n",
      "   [0.01301822 0.01307136 0.0130736 ]]\n",
      "\n",
      "  [[0.01301822 0.01307136 0.0130736 ]\n",
      "   [0.01301822 0.01307136 0.0130736 ]\n",
      "   [0.01301822 0.01307136 0.0130736 ]\n",
      "   ...\n",
      "   [0.01301822 0.01307136 0.0130736 ]\n",
      "   [0.01301822 0.01307136 0.0130736 ]\n",
      "   [0.01301822 0.01307136 0.0130736 ]]\n",
      "\n",
      "  ...\n",
      "\n",
      "  [[0.01301822 0.01307136 0.0130736 ]\n",
      "   [0.01301822 0.01307136 0.0130736 ]\n",
      "   [0.01301822 0.01307136 0.0130736 ]\n",
      "   ...\n",
      "   [0.01301822 0.01307136 0.0130736 ]\n",
      "   [0.01301822 0.01307136 0.0130736 ]\n",
      "   [0.01301822 0.01307136 0.0130736 ]]\n",
      "\n",
      "  [[0.01301822 0.01307136 0.0130736 ]\n",
      "   [0.01301822 0.01307136 0.0130736 ]\n",
      "   [0.01301822 0.01307136 0.0130736 ]\n",
      "   ...\n",
      "   [0.01301822 0.01307136 0.0130736 ]\n",
      "   [0.01301822 0.01307136 0.0130736 ]\n",
      "   [0.01301822 0.01307136 0.0130736 ]]\n",
      "\n",
      "  [[0.01301822 0.01307136 0.0130736 ]\n",
      "   [0.01301822 0.01307136 0.0130736 ]\n",
      "   [0.01301822 0.01307136 0.0130736 ]\n",
      "   ...\n",
      "   [0.01301822 0.01307136 0.0130736 ]\n",
      "   [0.01301822 0.01307136 0.0130736 ]\n",
      "   [0.01301822 0.01307136 0.0130736 ]]]\n",
      "\n",
      "\n",
      " ...\n",
      "\n",
      "\n",
      " [[[0.01301822 0.01307136 0.0130736 ]\n",
      "   [0.01301822 0.01307136 0.0130736 ]\n",
      "   [0.01301822 0.01307136 0.0130736 ]\n",
      "   ...\n",
      "   [0.01301822 0.01307136 0.0130736 ]\n",
      "   [0.01301822 0.01307136 0.0130736 ]\n",
      "   [0.01301822 0.01307136 0.0130736 ]]\n",
      "\n",
      "  [[0.01301822 0.01307136 0.0130736 ]\n",
      "   [0.01301822 0.01307136 0.0130736 ]\n",
      "   [0.01301822 0.01307136 0.0130736 ]\n",
      "   ...\n",
      "   [0.01301822 0.01307136 0.0130736 ]\n",
      "   [0.01301822 0.01307136 0.0130736 ]\n",
      "   [0.01301822 0.01307136 0.0130736 ]]\n",
      "\n",
      "  [[0.01301822 0.01307136 0.0130736 ]\n",
      "   [0.01301822 0.01307136 0.0130736 ]\n",
      "   [0.01301822 0.01307136 0.0130736 ]\n",
      "   ...\n",
      "   [0.01301822 0.01307136 0.0130736 ]\n",
      "   [0.01301822 0.01307136 0.0130736 ]\n",
      "   [0.01301822 0.01307136 0.0130736 ]]\n",
      "\n",
      "  ...\n",
      "\n",
      "  [[0.01301822 0.01307136 0.0130736 ]\n",
      "   [0.01301822 0.01307136 0.0130736 ]\n",
      "   [0.01301822 0.01307136 0.0130736 ]\n",
      "   ...\n",
      "   [0.01301822 0.01307136 0.0130736 ]\n",
      "   [0.01301822 0.01307136 0.0130736 ]\n",
      "   [0.01301822 0.01307136 0.0130736 ]]\n",
      "\n",
      "  [[0.01301822 0.01307136 0.0130736 ]\n",
      "   [0.01301822 0.01307136 0.0130736 ]\n",
      "   [0.01301822 0.01307136 0.0130736 ]\n",
      "   ...\n",
      "   [0.01301822 0.01307136 0.0130736 ]\n",
      "   [0.01301822 0.01307136 0.0130736 ]\n",
      "   [0.01301822 0.01307136 0.0130736 ]]\n",
      "\n",
      "  [[0.01301822 0.01307136 0.0130736 ]\n",
      "   [0.01301822 0.01307136 0.0130736 ]\n",
      "   [0.01301822 0.01307136 0.0130736 ]\n",
      "   ...\n",
      "   [0.01301822 0.01307136 0.0130736 ]\n",
      "   [0.01301822 0.01307136 0.0130736 ]\n",
      "   [0.01301822 0.01307136 0.0130736 ]]]\n",
      "\n",
      "\n",
      " [[[0.01301822 0.01307136 0.0130736 ]\n",
      "   [0.01301822 0.01307136 0.0130736 ]\n",
      "   [0.01301822 0.01307136 0.0130736 ]\n",
      "   ...\n",
      "   [0.01301822 0.01307136 0.0130736 ]\n",
      "   [0.01301822 0.01307136 0.0130736 ]\n",
      "   [0.01301822 0.01307136 0.0130736 ]]\n",
      "\n",
      "  [[0.01301822 0.01307136 0.0130736 ]\n",
      "   [0.01301822 0.01307136 0.0130736 ]\n",
      "   [0.01301822 0.01307136 0.0130736 ]\n",
      "   ...\n",
      "   [0.01301822 0.01307136 0.0130736 ]\n",
      "   [0.01301822 0.01307136 0.0130736 ]\n",
      "   [0.01301822 0.01307136 0.0130736 ]]\n",
      "\n",
      "  [[0.01301822 0.01307136 0.0130736 ]\n",
      "   [0.01301822 0.01307136 0.0130736 ]\n",
      "   [0.01301822 0.01307136 0.0130736 ]\n",
      "   ...\n",
      "   [0.01301822 0.01307136 0.0130736 ]\n",
      "   [0.01301822 0.01307136 0.0130736 ]\n",
      "   [0.01301822 0.01307136 0.0130736 ]]\n",
      "\n",
      "  ...\n",
      "\n",
      "  [[0.01301822 0.01307136 0.0130736 ]\n",
      "   [0.01301822 0.01307136 0.0130736 ]\n",
      "   [0.01301822 0.01307136 0.0130736 ]\n",
      "   ...\n",
      "   [0.01301822 0.01307136 0.0130736 ]\n",
      "   [0.01301822 0.01307136 0.0130736 ]\n",
      "   [0.01301822 0.01307136 0.0130736 ]]\n",
      "\n",
      "  [[0.01301822 0.01307136 0.0130736 ]\n",
      "   [0.01301822 0.01307136 0.0130736 ]\n",
      "   [0.01301822 0.01307136 0.0130736 ]\n",
      "   ...\n",
      "   [0.01301822 0.01307136 0.0130736 ]\n",
      "   [0.01301822 0.01307136 0.0130736 ]\n",
      "   [0.01301822 0.01307136 0.0130736 ]]\n",
      "\n",
      "  [[0.01301822 0.01307136 0.0130736 ]\n",
      "   [0.01301822 0.01307136 0.0130736 ]\n",
      "   [0.01301822 0.01307136 0.0130736 ]\n",
      "   ...\n",
      "   [0.01301822 0.01307136 0.0130736 ]\n",
      "   [0.01301822 0.01307136 0.0130736 ]\n",
      "   [0.01301822 0.01307136 0.0130736 ]]]\n",
      "\n",
      "\n",
      " [[[0.01301822 0.01307136 0.0130736 ]\n",
      "   [0.01301822 0.01307136 0.0130736 ]\n",
      "   [0.01301822 0.01307136 0.0130736 ]\n",
      "   ...\n",
      "   [0.01301822 0.01307136 0.0130736 ]\n",
      "   [0.01301822 0.01307136 0.0130736 ]\n",
      "   [0.01301822 0.01307136 0.0130736 ]]\n",
      "\n",
      "  [[0.01301822 0.01307136 0.0130736 ]\n",
      "   [0.01301822 0.01307136 0.0130736 ]\n",
      "   [0.01301822 0.01307136 0.0130736 ]\n",
      "   ...\n",
      "   [0.01301822 0.01307136 0.0130736 ]\n",
      "   [0.01301822 0.01307136 0.0130736 ]\n",
      "   [0.01301822 0.01307136 0.0130736 ]]\n",
      "\n",
      "  [[0.01301822 0.01307136 0.0130736 ]\n",
      "   [0.01301822 0.01307136 0.0130736 ]\n",
      "   [0.01301822 0.01307136 0.0130736 ]\n",
      "   ...\n",
      "   [0.01301822 0.01307136 0.0130736 ]\n",
      "   [0.01301822 0.01307136 0.0130736 ]\n",
      "   [0.01301822 0.01307136 0.0130736 ]]\n",
      "\n",
      "  ...\n",
      "\n",
      "  [[0.01301822 0.01307136 0.0130736 ]\n",
      "   [0.01301822 0.01307136 0.0130736 ]\n",
      "   [0.01301822 0.01307136 0.0130736 ]\n",
      "   ...\n",
      "   [0.01301822 0.01307136 0.0130736 ]\n",
      "   [0.01301822 0.01307136 0.0130736 ]\n",
      "   [0.01301822 0.01307136 0.0130736 ]]\n",
      "\n",
      "  [[0.01301822 0.01307136 0.0130736 ]\n",
      "   [0.01301822 0.01307136 0.0130736 ]\n",
      "   [0.01301822 0.01307136 0.0130736 ]\n",
      "   ...\n",
      "   [0.01301822 0.01307136 0.0130736 ]\n",
      "   [0.01301822 0.01307136 0.0130736 ]\n",
      "   [0.01301822 0.01307136 0.0130736 ]]\n",
      "\n",
      "  [[0.01301822 0.01307136 0.0130736 ]\n",
      "   [0.01301822 0.01307136 0.0130736 ]\n",
      "   [0.01301822 0.01307136 0.0130736 ]\n",
      "   ...\n",
      "   [0.01301822 0.01307136 0.0130736 ]\n",
      "   [0.01301822 0.01307136 0.0130736 ]\n",
      "   [0.01301822 0.01307136 0.0130736 ]]]]\n"
     ]
    }
   ],
   "source": [
    "print(recon)"
   ]
  },
  {
   "cell_type": "markdown",
   "metadata": {},
   "source": []
  },
  {
   "cell_type": "code",
   "execution_count": 7,
   "metadata": {},
   "outputs": [],
   "source": []
  },
  {
   "cell_type": "code",
   "execution_count": null,
   "metadata": {},
   "outputs": [],
   "source": []
  },
  {
   "cell_type": "markdown",
   "metadata": {},
   "source": [
    "# visual"
   ]
  },
  {
   "cell_type": "code",
   "execution_count": null,
   "metadata": {},
   "outputs": [],
   "source": []
  }
 ],
 "metadata": {
  "kernelspec": {
   "display_name": "Python 3",
   "language": "python",
   "name": "python3"
  },
  "language_info": {
   "codemirror_mode": {
    "name": "ipython",
    "version": 3
   },
   "file_extension": ".py",
   "mimetype": "text/x-python",
   "name": "python",
   "nbconvert_exporter": "python",
   "pygments_lexer": "ipython3",
   "version": "3.6.8"
  }
 },
 "nbformat": 4,
 "nbformat_minor": 2
}
